{
  "nbformat": 4,
  "nbformat_minor": 0,
  "metadata": {
    "colab": {
      "provenance": [],
      "authorship_tag": "ABX9TyNaK2MYqiqZ+VPm7/CcgXP/",
      "include_colab_link": true
    },
    "kernelspec": {
      "name": "python3",
      "display_name": "Python 3"
    },
    "language_info": {
      "name": "python"
    }
  },
  "cells": [
    {
      "cell_type": "markdown",
      "metadata": {
        "id": "view-in-github",
        "colab_type": "text"
      },
      "source": [
        "<a href=\"https://colab.research.google.com/github/ibtissamNG/NLP_TP/blob/main/NLP_NEGGAOUI_Ibtissam.ipynb\" target=\"_parent\"><img src=\"https://colab.research.google.com/assets/colab-badge.svg\" alt=\"Open In Colab\"/></a>"
      ]
    },
    {
      "cell_type": "code",
      "execution_count": 1,
      "metadata": {
        "colab": {
          "base_uri": "https://localhost:8080/"
        },
        "id": "BQyQBk6lW-Bv",
        "outputId": "525dff2d-5977-45b1-a039-94211f9911b2"
      },
      "outputs": [
        {
          "output_type": "stream",
          "name": "stdout",
          "text": [
            "Requirement already satisfied: kaggle in /usr/local/lib/python3.10/dist-packages (1.5.16)\n",
            "Requirement already satisfied: six>=1.10 in /usr/local/lib/python3.10/dist-packages (from kaggle) (1.16.0)\n",
            "Requirement already satisfied: certifi in /usr/local/lib/python3.10/dist-packages (from kaggle) (2023.7.22)\n",
            "Requirement already satisfied: python-dateutil in /usr/local/lib/python3.10/dist-packages (from kaggle) (2.8.2)\n",
            "Requirement already satisfied: requests in /usr/local/lib/python3.10/dist-packages (from kaggle) (2.31.0)\n",
            "Requirement already satisfied: tqdm in /usr/local/lib/python3.10/dist-packages (from kaggle) (4.66.1)\n",
            "Requirement already satisfied: python-slugify in /usr/local/lib/python3.10/dist-packages (from kaggle) (8.0.1)\n",
            "Requirement already satisfied: urllib3 in /usr/local/lib/python3.10/dist-packages (from kaggle) (2.0.7)\n",
            "Requirement already satisfied: bleach in /usr/local/lib/python3.10/dist-packages (from kaggle) (6.1.0)\n",
            "Requirement already satisfied: webencodings in /usr/local/lib/python3.10/dist-packages (from bleach->kaggle) (0.5.1)\n",
            "Requirement already satisfied: text-unidecode>=1.3 in /usr/local/lib/python3.10/dist-packages (from python-slugify->kaggle) (1.3)\n",
            "Requirement already satisfied: charset-normalizer<4,>=2 in /usr/local/lib/python3.10/dist-packages (from requests->kaggle) (3.3.0)\n",
            "Requirement already satisfied: idna<4,>=2.5 in /usr/local/lib/python3.10/dist-packages (from requests->kaggle) (3.4)\n"
          ]
        }
      ],
      "source": [
        "!pip install kaggle\n",
        "!mkdir -p ~/.kaggle\n",
        "!cp kaggle.json ~/.kaggle/\n",
        "!chmod 600 ~/.kaggle/kaggle.json\n"
      ]
    },
    {
      "cell_type": "code",
      "source": [
        "!kaggle datasets download -d thoughtvector/customer-support-on-twitter"
      ],
      "metadata": {
        "colab": {
          "base_uri": "https://localhost:8080/"
        },
        "id": "RQzzUe5PXEVW",
        "outputId": "b41f6659-fffd-4320-ae61-88aa81b3a5bf"
      },
      "execution_count": 2,
      "outputs": [
        {
          "output_type": "stream",
          "name": "stdout",
          "text": [
            "Downloading customer-support-on-twitter.zip to /content\n",
            " 98% 166M/169M [00:06<00:00, 34.0MB/s]\n",
            "100% 169M/169M [00:06<00:00, 27.5MB/s]\n"
          ]
        }
      ]
    },
    {
      "cell_type": "code",
      "source": [
        "!unzip /content/customer-support-on-twitter.zip"
      ],
      "metadata": {
        "colab": {
          "base_uri": "https://localhost:8080/"
        },
        "id": "hQSxbRW4XJDI",
        "outputId": "9512c0f8-a98a-481f-d01d-f6c4747130eb"
      },
      "execution_count": 3,
      "outputs": [
        {
          "output_type": "stream",
          "name": "stdout",
          "text": [
            "Archive:  /content/customer-support-on-twitter.zip\n",
            "  inflating: sample.csv              \n",
            "  inflating: twcs/twcs.csv           \n"
          ]
        }
      ]
    },
    {
      "cell_type": "code",
      "source": [
        "import pandas as pd\n",
        "import numpy as np\n",
        "import matplotlib.pyplot as plt\n",
        "import re\n",
        "import nltk\n",
        "from nltk.tokenize import word_tokenize\n",
        "from nltk.corpus import stopwords\n",
        "from nltk.stem import PorterStemmer\n",
        "from nltk.stem import WordNetLemmatizer\n",
        "\n",
        "\n",
        "nltk.download('punkt')\n",
        "nltk.download('stopwords')\n",
        "nltk.download('wordnet')  # Download WordNet data (if not already downloaded)\n"
      ],
      "metadata": {
        "colab": {
          "base_uri": "https://localhost:8080/"
        },
        "id": "tqAH71nDahR3",
        "outputId": "c9a8b2d1-c763-4010-a32c-8fe4a40dd05c"
      },
      "execution_count": 4,
      "outputs": [
        {
          "output_type": "stream",
          "name": "stderr",
          "text": [
            "[nltk_data] Downloading package punkt to /root/nltk_data...\n",
            "[nltk_data]   Unzipping tokenizers/punkt.zip.\n",
            "[nltk_data] Downloading package stopwords to /root/nltk_data...\n",
            "[nltk_data]   Unzipping corpora/stopwords.zip.\n",
            "[nltk_data] Downloading package wordnet to /root/nltk_data...\n"
          ]
        },
        {
          "output_type": "execute_result",
          "data": {
            "text/plain": [
              "True"
            ]
          },
          "metadata": {},
          "execution_count": 4
        }
      ]
    },
    {
      "cell_type": "code",
      "source": [
        "df = pd.read_csv('/content/sample.csv')"
      ],
      "metadata": {
        "id": "0C5jDj0xa9NL"
      },
      "execution_count": 5,
      "outputs": []
    },
    {
      "cell_type": "code",
      "source": [
        "for index, row in df.iterrows():\n",
        "    print(row['text'])"
      ],
      "metadata": {
        "colab": {
          "base_uri": "https://localhost:8080/"
        },
        "id": "yqLwAwfJgv-1",
        "outputId": "d84fae73-ced1-47d6-e6d0-eba98a617cec"
      },
      "execution_count": 6,
      "outputs": [
        {
          "output_type": "stream",
          "name": "stdout",
          "text": [
            "@AppleSupport causing the reply to be disregarded and the tapped notification under the keyboard is opened😡😡😡\n",
            "@105835 Your business means a lot to us. Please DM your name, zip code and additional details about your concern. ^RR https://t.co/znUu1VJn9r\n",
            "@76328 I really hope you all change but I'm sure you won't! Because you don't have to!\n",
            "@105836 LiveChat is online at the moment - https://t.co/SY94VtU8Kq or contact 03331 031 031 option 1, 4, 3 (Leave a message) to request a call back\n",
            "@VirginTrains see attached error message. I've tried leaving a voicemail several times in the past week https://t.co/NxVZjlYx1k\n",
            "@105836 Have you tried from another device, Miriam ^MM\n",
            "@VirginTrains yep, I've tried laptop too several times over the past week and again today. I've tried different browsers too\n",
            "@105836 It's working OK from here, Miriam. Does this link help https://t.co/0m2mpH15eh ? ^MM\n",
            "@VirginTrains I still haven't heard &amp; the number I'm directed to by phone is a dead end &amp; the live chat doesn't work. Can someone call me?\n",
            "@105836 That's what we're here for Miriam 😊  The team should send you an email shortly ^HP\n",
            "@105837 We can help. Which version of iOS are you on? You can find that in Settings &gt; General &gt; About. Reply in DM. https://t.co/GDrqU22YpT\n",
            "@105838 @AppleSupport Me too am suffering , hope the can find a solution\n",
            "@AppleSupport hi #apple, I’ve a concern about the latest ios is too slow on #iphone6 and i am not happy with it. Any solution please?\n",
            "@105839 Thanks for reaching out to us. We are always happy to help. Send us a DM so we can look into this together. https://t.co/GDrqU22YpT\n",
            "I just updated my phone and suddenly everything takes ages to load wtf @76099 this update sux I hate it fix it bye\n",
            "@105840 Hi there! What device is this happening on? If you could also let us know the Android and Spotify versions you're using, that'd be great /AY\n",
            "@SpotifyCares Thanks! Version 8.4.22.857 armv7 on anker bluetooth speaker on Samsung Galaxy Tab A (2016) Model SM-T280 Does distance from speaker matter?\n",
            "@105840 Thanks. The distance could possibly affect playback. Does logging out &gt; restarting your device &gt; logging back in make a difference? /AY\n",
            "@SpotifyCares No, but I've moved speaker to about 1 metre away and it's not skipping at the mo - it was about 3 or 4 metres away before. Fingers crossed!\n",
            "@105840 That's great to hear. If anything comes up, just let us know. We'll carry on helping out 🙂 /AY\n",
            "@SpotifyCares Brilliant thanks 😊\n",
            "@105840 You're welcome! If there's anything else we can help with, just give us a shout. We're here for you 😉 /CP\n",
            "@76495 @91226 Please help! Spotify Premium skipping through songs constantly on android tablet &amp; bluetooth speaker. Tried everything!\n",
            "@105841 We'd love to help! Please DM us and let us know any steps you've tried since experiencing these behaviors. https://t.co/GDrqU22YpT\n",
            "@AppleSupport after the 11.0.2 my phone just sucks most of the apps are broken, wifi disconnects frequently #apple #ios1102 #painfulupdate\n",
            "@105842 We're sorry your flight has been delayed, Beatner. Are you travelling on the BA8733? If so, the updated departure time we have is 15:30. 1/2\n",
            "First flight for long time with @British_Airways. Now over one 1h delay for the short jump FRA-LCY and NO one here to provide status updates\n",
            "@105843 Battery life is important, and we're here for you. DM us the iOS version your iPhone is running. We'll go from there. https://t.co/GDrqU22YpT\n",
            "Okay @76099 I used my fucking phone for 2 minutes and it drains it down 8 fucking percent\n",
            "@105844 Thanks for reaching out to us. We are always happy to help. Send us a DM so we can look into this together. https://t.co/GDrqU22YpT\n",
            "@AppleSupport Can you get my iPhone 7plus back on the old iOS please?  Battery runs out in half the time, apps now frequently crash.\n",
            "@105844 We'd be happy to help. Send us a DM and we can start there. https://t.co/GDrqU22YpT\n",
            "You’ve paralysed my phone with your update @76099 grrrrrrrrrr\n",
            "@82476 🤔 We'd like to help Sam, which number is calling you? Please DM us more info so we can advise further. https://t.co/5pyLDJBC6r\n",
            "@O2 I received this a few weeks ago, since then I've been getting 2/3 calls a day from a telemarketer. Is someone using your name? https://t.co/GLtz4XHcex\n",
            "@105845 I understand this is a frustrating experience, please send a DM with your account information so I can look into this matter for you. -AD\n",
            "My internet is down and xfinity talkin about 24-72 hours... y’all have the game messed up. \n",
            "\n",
            "@77245\n",
            "@105676 I understand how you frustrated this situation can be. Please follow us by sending a DM for further assistance. Sprint Cares. -AC\n",
            "@76803  I service last 40 min sprint can I get a refund https://t.co/wYPw9hP6wt\n",
            "@105846 We'd like to help. What happens when you try to listen to Apple Music &amp; use WhatsApp? Does the music pause? Let us know in DM. https://t.co/GDrqU22YpT\n",
            "So the new @76099 update does not let me listen to music and go on whatsapp at the same time?!?\n",
            "@105847 Hi Harry! Help's here. Can you check if logging out &gt; restarting your device &gt; logging back in makes a difference? Keep us posted /MU\n",
            "@SpotifyCares seems to be working at this stage. Will let you know if it happens again. Cheers\n",
            "@105847 Sure thing. We'll keep an eye out for your update /MU\n",
            "@SpotifyCares problem has come back again today. is there some kind of bug?\n",
            "@105847 Thanks for giving us a nudge about this. What device, operating system, and Spotify version is this happening on? /AY\n",
            "@SpotifyCares It's on a Macbook Air (early 2014), running High Sierra, spotify version 1.0.65.320.gac7a8e02\n",
            "@105847 Got it. Can you try the steps here for us: https://t.co/EqisDMwZAT? They should help with this. Let us know how it plays out /AY\n",
            "@SpotifyCares i've been having issues with playback. songs have been stopping midway through and won't restart unless i close and reopen app\n",
            "@105848 Let's take a look. What is the exact iOS you're using? Are you using any specific apps when noticing this? DM us your reply. https://t.co/GDrqU22YpT\n",
            "@AppleSupport Latest version 😡😡 I have read the help page turned off virtually all apps and location svs too - but in typing this I dropped 3% life\n",
            "@AppleSupport Super help - problem solved 😀 once again in love with Apple\n",
            "@AppleSupport #ios11update - is still killing my battery within 12 hours - phone is 10 months old - it’s a disgrace - used to get 2 days\n",
            "@105849 Thanks for reaching out to us. We are always happy to help. Send us a DM so we can look into this together. https://t.co/GDrqU22YpT\n",
            "Took my phone off charge at 7:20am.\n",
            "\n",
            "8:03am - 60% battery remaining.\n",
            "\n",
            "@76099 plz I beg you, sort your battery life out😩\n",
            "@105850 Once the points load and you hit the number, you get it immediately! You'll even receive a congrats email. Are you almost there? ^AC\n",
            "@SouthwestAir I am! Thank you for the answer!!\n",
            "@southwestair Just curious....will I get the companion pass the exact moment I get enough points? It will I have to wait? Thanks!\n",
            "@105851 We'd like to provide some assistance with this. Tell us more about the issue you're experiencing in DM. We'll go from there. https://t.co/GDrqU22YpT\n",
            "@AppleSupport I need a new code for my I-store. I haven’t recd any but msg is too many sent. Help!\n",
            "@105852 Are you experiencing an issue with your device? If so, DM us with what's going on. We'll see how we can help from there. https://t.co/GDrqU22YpT\n",
            "@76099 @AppleSupport fix this update. It’s horrible\n",
            "@105842 I appreciate it's after 15:30 now, so hopefully you will depart very soon. We're sorry for any inconvenience the delay has caused. 2/2 ^JR\n",
            "@British_Airways Thanks for your answer. Response onsite was that Aircraft will not depart today, so rebooking to @105853 with now 4h delay...\n",
            "@105842 Very sorry to hear this.  We hope you get everything sorted.   Kind Regards ^Jools\n",
            "@105854 I am sorry for the poor experience. Can you please DM the full service address and name on the account, as we ass... https://t.co/JEZhqGdBMd\n",
            "@Ask_Spectrum It's just in my yard. I've called 4-5 times in 6 weeks. I'm not a customer but it's pretty tempting. I do have some coaxial\n",
            "@76501 I guess this means free cable for the neighborhood. https://t.co/FBgEE9YXPm\n",
            "@105855 Hi Thomas, if a colleague believes the person buying alcohol looks under 25, they will be challenged for ID to prove they're of age. - Paige\n",
            "@Tesco Maybe hire colleagues who can see?\n",
            "@Tesco The point is if it's enforced they do it properly or they don't. Plus take some common-sense and think does that person look over 18?\n",
            "@105855 Hi Thomas, this is correct but this helps our store colleagues judge age and protect them from making underage sales. Amanda\n",
            "@Tesco Uk offlicense law is 18. Not 25\n",
            "@105855 Hi Thomas, we operate a Think 25 policy at our stores. I'd be flattered to be ID'd. :-) - Helena\n",
            "Got id's @Tesco for buying one Adnams Broadside. Is being blind part of the job-spec? I am 35 and 99 kilos.\n",
            "@105856 Hi there, could you try deleting your cache and cookies and reinstalling the app if using it? This should fix the issue :) - Dani\n",
            "@Tesco Will I lose all the shopping I've done if I delete the cache/cookies (not using app)?\n",
            "@105856 Hi there, as long as you sign out of your account prior to deleting your cache &amp; cookies, you'll still have a full basket :) Thanks - Mike\n",
            "@Tesco Done all that. Still telling me there are no delivery slots whatsoever.\n",
            "@105856 Can you DM me your full name, address and email? I'd be happy to look into this further for you :) Thanks - Mike\n",
            "Hey @Tesco, your website's broken. It's telling me there are no delivery slots for the next 3 weeks, which I find slightly unlikely.\n",
            "@105857 Is there a particular app that seems to cause these issues more than others? What model iPhone are you using? Join us in DM. https://t.co/GDrqU22YpT\n",
            "@AppleSupport I have the latest version iOS. It started immediately after I updated my phone.\n",
            "@105857 We'd like to help if we can. When did this start happening? Which version of iOS are you running currently?\n",
            "My apps stop working without warning and my phone freezes every five minutes! Love the new update @76099!!!!\n",
            "@105858 Hi Agoura, thanks for tweeting. Please refer to this article: https://t.co/BSsgjZARTc &amp; click the link to reply back. ^Rashmi https://t.co/a2xkfCrUG1\n",
            "@HPSupport Problem with printhead  Serial# TH536D1HN #hpcswus #hpprnt\n",
            "@105859 UPS has a service called My Choice that will allow your packages to be delivered to UPS Store. ^ML  https://t.co/BPZKndqww1 https://t.co/wKJHDXWGRQ\n",
            "@105860 I wish Amazon had an option of where I can just get it shipped to the ups store so I can avoid a lot of the struggle\n",
            "They reschedule my shit for tomorrow https://t.co/RsvZcT982t\n",
            "@105861 Hey Sara, sorry to hear of the issues you are having, can I ask if it's the lay out or just the speed of the website responding? TY - Chris\n",
            "@Tesco bit of both - finding the layout cumbersome and when removing an item from faves - getting a huge slowdown. Not keen on the thin green line https://t.co/9281OKEebk\n",
            "@105861 If that doesn't help please DM your full name, address and email including the browser and device so we can log this. Thanks - Lee 2/2\n"
          ]
        }
      ]
    },
    {
      "cell_type": "code",
      "source": [
        "# Lowercasing\n",
        "df['text'] = df['text'].str.lower()\n",
        "\n",
        "for index, row in df.head(10).iterrows():\n",
        "    print(row['text'])"
      ],
      "metadata": {
        "colab": {
          "base_uri": "https://localhost:8080/"
        },
        "id": "RQQe_wxwbAfx",
        "outputId": "88fb2c47-477b-4bfc-8bfc-cfa2b94c3af0"
      },
      "execution_count": 7,
      "outputs": [
        {
          "output_type": "stream",
          "name": "stdout",
          "text": [
            "@applesupport causing the reply to be disregarded and the tapped notification under the keyboard is opened😡😡😡\n",
            "@105835 your business means a lot to us. please dm your name, zip code and additional details about your concern. ^rr https://t.co/znuu1vjn9r\n",
            "@76328 i really hope you all change but i'm sure you won't! because you don't have to!\n",
            "@105836 livechat is online at the moment - https://t.co/sy94vtu8kq or contact 03331 031 031 option 1, 4, 3 (leave a message) to request a call back\n",
            "@virgintrains see attached error message. i've tried leaving a voicemail several times in the past week https://t.co/nxvzjlyx1k\n",
            "@105836 have you tried from another device, miriam ^mm\n",
            "@virgintrains yep, i've tried laptop too several times over the past week and again today. i've tried different browsers too\n",
            "@105836 it's working ok from here, miriam. does this link help https://t.co/0m2mph15eh ? ^mm\n",
            "@virgintrains i still haven't heard &amp; the number i'm directed to by phone is a dead end &amp; the live chat doesn't work. can someone call me?\n",
            "@105836 that's what we're here for miriam 😊  the team should send you an email shortly ^hp\n"
          ]
        }
      ]
    },
    {
      "cell_type": "code",
      "source": [
        "# Function to remove links using regex\n",
        "def remove_links(text):\n",
        "    return re.sub(r'http\\S+', '', text)\n",
        "\n",
        "# Apply the function to the \"text\" column\n",
        "df['text'] = df['text'].apply(remove_links)\n",
        "\n",
        "for index, row in df.head(10).iterrows():\n",
        "    print(row['text'])"
      ],
      "metadata": {
        "colab": {
          "base_uri": "https://localhost:8080/"
        },
        "id": "TnexD9gii9-r",
        "outputId": "4d35f787-9029-40df-9660-9193b84fab3d"
      },
      "execution_count": 8,
      "outputs": [
        {
          "output_type": "stream",
          "name": "stdout",
          "text": [
            "@applesupport causing the reply to be disregarded and the tapped notification under the keyboard is opened😡😡😡\n",
            "@105835 your business means a lot to us. please dm your name, zip code and additional details about your concern. ^rr \n",
            "@76328 i really hope you all change but i'm sure you won't! because you don't have to!\n",
            "@105836 livechat is online at the moment -  or contact 03331 031 031 option 1, 4, 3 (leave a message) to request a call back\n",
            "@virgintrains see attached error message. i've tried leaving a voicemail several times in the past week \n",
            "@105836 have you tried from another device, miriam ^mm\n",
            "@virgintrains yep, i've tried laptop too several times over the past week and again today. i've tried different browsers too\n",
            "@105836 it's working ok from here, miriam. does this link help  ? ^mm\n",
            "@virgintrains i still haven't heard &amp; the number i'm directed to by phone is a dead end &amp; the live chat doesn't work. can someone call me?\n",
            "@105836 that's what we're here for miriam 😊  the team should send you an email shortly ^hp\n"
          ]
        }
      ]
    },
    {
      "cell_type": "code",
      "source": [
        "# Remove punctuation\n",
        "df['text'] = df['text'].str.replace('[^\\w\\s]', '')\n",
        "\n",
        "for index, row in df.head(10).iterrows():\n",
        "    print(row['text'])"
      ],
      "metadata": {
        "colab": {
          "base_uri": "https://localhost:8080/"
        },
        "id": "voGmMgyrbKSa",
        "outputId": "e7a89820-6aa4-4ba3-bf53-dd15ec88540e"
      },
      "execution_count": 9,
      "outputs": [
        {
          "output_type": "stream",
          "name": "stdout",
          "text": [
            "applesupport causing the reply to be disregarded and the tapped notification under the keyboard is opened\n",
            "105835 your business means a lot to us please dm your name zip code and additional details about your concern rr \n",
            "76328 i really hope you all change but im sure you wont because you dont have to\n",
            "105836 livechat is online at the moment   or contact 03331 031 031 option 1 4 3 leave a message to request a call back\n",
            "virgintrains see attached error message ive tried leaving a voicemail several times in the past week \n",
            "105836 have you tried from another device miriam mm\n",
            "virgintrains yep ive tried laptop too several times over the past week and again today ive tried different browsers too\n",
            "105836 its working ok from here miriam does this link help   mm\n",
            "virgintrains i still havent heard amp the number im directed to by phone is a dead end amp the live chat doesnt work can someone call me\n",
            "105836 thats what were here for miriam   the team should send you an email shortly hp\n"
          ]
        },
        {
          "output_type": "stream",
          "name": "stderr",
          "text": [
            "<ipython-input-9-4fda83b1afa7>:2: FutureWarning: The default value of regex will change from True to False in a future version.\n",
            "  df['text'] = df['text'].str.replace('[^\\w\\s]', '')\n"
          ]
        }
      ]
    },
    {
      "cell_type": "code",
      "source": [
        "# Remove numbers\n",
        "df['text'] = df['text'].str.replace('\\d', '')\n",
        "\n",
        "for index, row in df.head(10).iterrows():\n",
        "    print(row['text'])\n"
      ],
      "metadata": {
        "colab": {
          "base_uri": "https://localhost:8080/"
        },
        "id": "jyOeR98_bQ5A",
        "outputId": "fa667974-e585-44c8-bd73-c0f7e931a004"
      },
      "execution_count": 10,
      "outputs": [
        {
          "output_type": "stream",
          "name": "stdout",
          "text": [
            "applesupport causing the reply to be disregarded and the tapped notification under the keyboard is opened\n",
            " your business means a lot to us please dm your name zip code and additional details about your concern rr \n",
            " i really hope you all change but im sure you wont because you dont have to\n",
            " livechat is online at the moment   or contact    option    leave a message to request a call back\n",
            "virgintrains see attached error message ive tried leaving a voicemail several times in the past week \n",
            " have you tried from another device miriam mm\n",
            "virgintrains yep ive tried laptop too several times over the past week and again today ive tried different browsers too\n",
            " its working ok from here miriam does this link help   mm\n",
            "virgintrains i still havent heard amp the number im directed to by phone is a dead end amp the live chat doesnt work can someone call me\n",
            " thats what were here for miriam   the team should send you an email shortly hp\n"
          ]
        },
        {
          "output_type": "stream",
          "name": "stderr",
          "text": [
            "<ipython-input-10-83c6855ddb50>:2: FutureWarning: The default value of regex will change from True to False in a future version.\n",
            "  df['text'] = df['text'].str.replace('\\d', '')\n"
          ]
        }
      ]
    },
    {
      "cell_type": "code",
      "source": [
        "# Remove extra whitespace\n",
        "df['text'] = df['text'].str.strip()\n",
        "\n",
        "for index, row in df.head(10).iterrows():\n",
        "    print(row['text'])"
      ],
      "metadata": {
        "colab": {
          "base_uri": "https://localhost:8080/"
        },
        "id": "JctMiZwubbb8",
        "outputId": "f0561ca1-389d-441e-c6a5-39b3b8963017"
      },
      "execution_count": 11,
      "outputs": [
        {
          "output_type": "stream",
          "name": "stdout",
          "text": [
            "applesupport causing the reply to be disregarded and the tapped notification under the keyboard is opened\n",
            "your business means a lot to us please dm your name zip code and additional details about your concern rr\n",
            "i really hope you all change but im sure you wont because you dont have to\n",
            "livechat is online at the moment   or contact    option    leave a message to request a call back\n",
            "virgintrains see attached error message ive tried leaving a voicemail several times in the past week\n",
            "have you tried from another device miriam mm\n",
            "virgintrains yep ive tried laptop too several times over the past week and again today ive tried different browsers too\n",
            "its working ok from here miriam does this link help   mm\n",
            "virgintrains i still havent heard amp the number im directed to by phone is a dead end amp the live chat doesnt work can someone call me\n",
            "thats what were here for miriam   the team should send you an email shortly hp\n"
          ]
        }
      ]
    },
    {
      "cell_type": "code",
      "source": [
        "#Tokenization\n",
        "df['text'] = df['text'].apply(word_tokenize)\n",
        "\n",
        "for index, row in df.head(10).iterrows():\n",
        "    print(row['text'])"
      ],
      "metadata": {
        "colab": {
          "base_uri": "https://localhost:8080/"
        },
        "id": "iKm3lNcqbfMO",
        "outputId": "b41ccda4-1545-44c5-8fbb-7e4820883792"
      },
      "execution_count": 12,
      "outputs": [
        {
          "output_type": "stream",
          "name": "stdout",
          "text": [
            "['applesupport', 'causing', 'the', 'reply', 'to', 'be', 'disregarded', 'and', 'the', 'tapped', 'notification', 'under', 'the', 'keyboard', 'is', 'opened']\n",
            "['your', 'business', 'means', 'a', 'lot', 'to', 'us', 'please', 'dm', 'your', 'name', 'zip', 'code', 'and', 'additional', 'details', 'about', 'your', 'concern', 'rr']\n",
            "['i', 'really', 'hope', 'you', 'all', 'change', 'but', 'im', 'sure', 'you', 'wont', 'because', 'you', 'dont', 'have', 'to']\n",
            "['livechat', 'is', 'online', 'at', 'the', 'moment', 'or', 'contact', 'option', 'leave', 'a', 'message', 'to', 'request', 'a', 'call', 'back']\n",
            "['virgintrains', 'see', 'attached', 'error', 'message', 'ive', 'tried', 'leaving', 'a', 'voicemail', 'several', 'times', 'in', 'the', 'past', 'week']\n",
            "['have', 'you', 'tried', 'from', 'another', 'device', 'miriam', 'mm']\n",
            "['virgintrains', 'yep', 'ive', 'tried', 'laptop', 'too', 'several', 'times', 'over', 'the', 'past', 'week', 'and', 'again', 'today', 'ive', 'tried', 'different', 'browsers', 'too']\n",
            "['its', 'working', 'ok', 'from', 'here', 'miriam', 'does', 'this', 'link', 'help', 'mm']\n",
            "['virgintrains', 'i', 'still', 'havent', 'heard', 'amp', 'the', 'number', 'im', 'directed', 'to', 'by', 'phone', 'is', 'a', 'dead', 'end', 'amp', 'the', 'live', 'chat', 'doesnt', 'work', 'can', 'someone', 'call', 'me']\n",
            "['thats', 'what', 'were', 'here', 'for', 'miriam', 'the', 'team', 'should', 'send', 'you', 'an', 'email', 'shortly', 'hp']\n"
          ]
        }
      ]
    },
    {
      "cell_type": "code",
      "source": [
        "#remove stopwords(and,is, the)\n",
        "stop_words = set(stopwords.words('english'))\n",
        "df['text'] = df['text'].apply(lambda x: [word for word in x if word not in stop_words])\n",
        "\n",
        "for index, row in df.head(10).iterrows():\n",
        "    print(row['text'])\n"
      ],
      "metadata": {
        "colab": {
          "base_uri": "https://localhost:8080/"
        },
        "id": "1vha54EYcbqE",
        "outputId": "a2f7203c-4af1-4c9e-f5a7-a12f24be7147"
      },
      "execution_count": 13,
      "outputs": [
        {
          "output_type": "stream",
          "name": "stdout",
          "text": [
            "['applesupport', 'causing', 'reply', 'disregarded', 'tapped', 'notification', 'keyboard', 'opened']\n",
            "['business', 'means', 'lot', 'us', 'please', 'dm', 'name', 'zip', 'code', 'additional', 'details', 'concern', 'rr']\n",
            "['really', 'hope', 'change', 'im', 'sure', 'wont', 'dont']\n",
            "['livechat', 'online', 'moment', 'contact', 'option', 'leave', 'message', 'request', 'call', 'back']\n",
            "['virgintrains', 'see', 'attached', 'error', 'message', 'ive', 'tried', 'leaving', 'voicemail', 'several', 'times', 'past', 'week']\n",
            "['tried', 'another', 'device', 'miriam', 'mm']\n",
            "['virgintrains', 'yep', 'ive', 'tried', 'laptop', 'several', 'times', 'past', 'week', 'today', 'ive', 'tried', 'different', 'browsers']\n",
            "['working', 'ok', 'miriam', 'link', 'help', 'mm']\n",
            "['virgintrains', 'still', 'havent', 'heard', 'amp', 'number', 'im', 'directed', 'phone', 'dead', 'end', 'amp', 'live', 'chat', 'doesnt', 'work', 'someone', 'call']\n",
            "['thats', 'miriam', 'team', 'send', 'email', 'shortly', 'hp']\n"
          ]
        }
      ]
    },
    {
      "cell_type": "code",
      "source": [
        "# Apply stemming\n",
        "stemmer = PorterStemmer()\n",
        "df['text'] = df['text'].apply(lambda x: [stemmer.stem(word) for word in x])\n",
        "\n",
        "# Print the result\n",
        "for index, row in df.head(10).iterrows():\n",
        "    print(row['text'])"
      ],
      "metadata": {
        "id": "9lApgyoxkf-k",
        "colab": {
          "base_uri": "https://localhost:8080/"
        },
        "outputId": "ad9a4b92-b573-40ae-a4c5-93815cbbf840"
      },
      "execution_count": 24,
      "outputs": [
        {
          "output_type": "stream",
          "name": "stdout",
          "text": [
            "['applesupport', 'cau', 'repli', 'disregard', 'tap', 'notif', 'keyboard', 'open']\n",
            "['busi', 'mean', 'lot', 'u', 'plea', 'dm', 'name', 'zip', 'code', 'addit', 'detail', 'concern', 'rr']\n",
            "['realli', 'hope', 'chang', 'im', 'sure', 'wont', 'dont']\n",
            "['livechat', 'onlin', 'moment', 'contact', 'option', 'leav', 'messag', 'request', 'call', 'back']\n",
            "['virgintrain', 'see', 'attach', 'error', 'messag', 'ive', 'tri', 'leav', 'voicemail', 'sever', 'time', 'past', 'week']\n",
            "['tri', 'anoth', 'devic', 'miriam', 'mm']\n",
            "['virgintrain', 'yep', 'ive', 'tri', 'laptop', 'sever', 'time', 'past', 'week', 'today', 'ive', 'tri', 'differ', 'browser']\n",
            "['work', 'ok', 'miriam', 'link', 'help', 'mm']\n",
            "['virgintrain', 'still', 'havent', 'heard', 'amp', 'number', 'im', 'direct', 'phone', 'dead', 'end', 'amp', 'live', 'chat', 'doesnt', 'work', 'someon', 'call']\n",
            "['that', 'miriam', 'team', 'send', 'email', 'shortli', 'hp']\n"
          ]
        }
      ]
    },
    {
      "cell_type": "code",
      "source": [
        "#reduce words to their base or root form\n",
        "lemmatizer = WordNetLemmatizer()\n",
        "def lemmatize_tokens(tokens):\n",
        "    return [lemmatizer.lemmatize(token) for token in tokens]\n",
        "\n",
        "df['text'] = df['text'].apply(lemmatize_tokens)\n",
        "\n",
        "\n",
        "for index, row in df.head(10).iterrows():\n",
        "    print(row['text'])\n"
      ],
      "metadata": {
        "id": "wdpWKx8adHtP",
        "colab": {
          "base_uri": "https://localhost:8080/"
        },
        "outputId": "da10b98d-8a06-4f7e-927c-8a2a7ccb28b5"
      },
      "execution_count": 19,
      "outputs": [
        {
          "output_type": "stream",
          "name": "stdout",
          "text": [
            "['applesupport', 'cau', 'repli', 'disregard', 'tap', 'notif', 'keyboard', 'open']\n",
            "['busi', 'mean', 'lot', 'u', 'plea', 'dm', 'name', 'zip', 'code', 'addit', 'detail', 'concern', 'rr']\n",
            "['realli', 'hope', 'chang', 'im', 'sure', 'wont', 'dont']\n",
            "['livechat', 'onlin', 'moment', 'contact', 'option', 'leav', 'messag', 'request', 'call', 'back']\n",
            "['virgintrain', 'see', 'attach', 'error', 'messag', 'ive', 'tri', 'leav', 'voicemail', 'sever', 'time', 'past', 'week']\n",
            "['tri', 'anoth', 'devic', 'miriam', 'mm']\n",
            "['virgintrain', 'yep', 'ive', 'tri', 'laptop', 'sever', 'time', 'past', 'week', 'today', 'ive', 'tri', 'differ', 'browser']\n",
            "['work', 'ok', 'miriam', 'link', 'help', 'mm']\n",
            "['virgintrain', 'still', 'havent', 'heard', 'amp', 'number', 'im', 'direct', 'phone', 'dead', 'end', 'amp', 'live', 'chat', 'doesnt', 'work', 'someon', 'call']\n",
            "['that', 'miriam', 'team', 'send', 'email', 'shortli', 'hp']\n"
          ]
        }
      ]
    },
    {
      "cell_type": "code",
      "source": [
        "# Join the lemmatized tokens to form paragraphs\n",
        "df['paragraph'] = df['text'].apply(lambda tokens: ' '.join(tokens))\n",
        "\n",
        "# Print the paragraphs\n",
        "for paragraph in df['paragraph']:\n",
        "    print(paragraph)"
      ],
      "metadata": {
        "colab": {
          "base_uri": "https://localhost:8080/"
        },
        "id": "pmfgtd5mexLZ",
        "outputId": "25a05798-2d58-4c01-daa0-0eeeee82feed"
      },
      "execution_count": 26,
      "outputs": [
        {
          "output_type": "stream",
          "name": "stdout",
          "text": [
            "applesupport cau repli disregard tap notif keyboard open\n",
            "busi mean lot u plea dm name zip code addit detail concern rr\n",
            "realli hope chang im sure wont dont\n",
            "livechat onlin moment contact option leav messag request call back\n",
            "virgintrain see attach error messag ive tri leav voicemail sever time past week\n",
            "tri anoth devic miriam mm\n",
            "virgintrain yep ive tri laptop sever time past week today ive tri differ browser\n",
            "work ok miriam link help mm\n",
            "virgintrain still havent heard amp number im direct phone dead end amp live chat doesnt work someon call\n",
            "that miriam team send email shortli hp\n",
            "help version io find set gt gener gt repli dm\n",
            "applesupport suffer hope find solut\n",
            "applesupport hi appl ive concern latest io slow iphon happi solut plea\n",
            "thank reach u alway happi help send u dm look togeth\n",
            "updat phone suddenli everyth take age load wtf updat sux hate fix bye\n",
            "hi devic happen could also let u know android spotifi version your use thatd great ay\n",
            "spotifycar thank version armv anker bluetooth speaker samsung galaxi tab model smt distanc speaker matter\n",
            "thank distanc could possibl affect playback log gt restart devic gt log back make differ ay\n",
            "spotifycar ive move speaker metr away skip mo metr away finger cross\n",
            "that great hear anyth come let u know well carri help ay\n",
            "spotifycar brilliant thank\n",
            "your welcom there anyth el help give u shout cp\n",
            "plea help spotifi premium skip song constantli android tablet amp bluetooth speaker tri everyth\n",
            "wed love help plea dm u let u know step youv tri sinc experienc behavior\n",
            "applesupport phone suck app broken wifi disconnect frequent appl io painfulupd\n",
            "sorri flight delay beatner travel ba updat departur time\n",
            "first flight long time british_airway one h delay short jump fralci one provid statu updat\n",
            "batteri life import dm u io version iphon run well go\n",
            "okay use fuck phone minut drain fuck percent\n",
            "thank reach u alway happi help send u dm look togeth\n",
            "applesupport get iphon plu back old io plea batteri run half time app frequent crash\n",
            "wed happi help send u dm start\n",
            "youv parali phone updat grrrrrrrrrr\n",
            "wed like help sam number call plea dm u info advi\n",
            "receiv week ago sinc ive get call day telemarket someon use name\n",
            "understand frustrat experi plea send dm account inform look matter ad\n",
            "internet xfiniti talkin hour yall game mess\n",
            "understand frustrat situat plea follow u send dm assist sprint care ac\n",
            "servic last min sprint get refund\n",
            "wed like help happen tri listen appl music amp use whatsapp music pau let u know dm\n",
            "new updat let listen music go whatsapp time\n",
            "hi harri help check log gt restart devic gt log back make differ keep u post mu\n",
            "spotifycar seem work stage let know happen cheer\n",
            "sure thing well keep eye updat mu\n",
            "spotifycar problem come back today kind bug\n",
            "thank give u nudg devic oper system spotifi version happen ay\n",
            "spotifycar macbook air earli run high sierra spotifi version gaca\n",
            "got tri step u help let u know play ay\n",
            "spotifycar ive issu playback song stop midway wont restart unless close reopen app\n",
            "let take look exact io your use use specif app notic dm u repli\n",
            "applesupport latest version read help page turn virtual app locat sv type drop life\n",
            "applesupport super help problem solv love appl\n",
            "applesupport iosupd still kill batteri within hour phone month old disgrac use get day\n",
            "thank reach u alway happi help send u dm look togeth\n",
            "took phone charg batteri remain plz beg sort batteri life\n",
            "point load hit number get immedi youll even receiv congrat email almost ac\n",
            "southwestair thank answer\n",
            "southwestair curiouswil get companion pa exact moment get enough point wait thank\n",
            "wed like provid assist tell u issu your experienc dm well go\n",
            "applesupport need new code istor havent recd msg mani sent help\n",
            "experienc issu devic dm u what go well see help\n",
            "applesupport fix updat horribl\n",
            "appreci hope depart soon sorri inconveni delay cau jr\n",
            "british_airway thank answer respon onsit aircraft depart today rebook h delay\n",
            "sorri hear hope get everyth sort kind regard jool\n",
            "sorri poor experi plea dm full servic address name account a\n",
            "ask_spectrum yard ive call time week im custom pretti tempt coaxial\n",
            "guess mean free cabl neighborhood\n",
            "hi thoma colleagu believ person buy alcohol look challeng id prove theyr age paig\n",
            "tesco mayb hire colleagu see\n",
            "tesco point enforc properli dont plu take commonsen think person look\n",
            "hi thoma correct help store colleagu judg age protect make underag sale amanda\n",
            "tesco uk offlicen law\n",
            "hi thoma oper think polici store id flatter idd helena\n",
            "got id tesco buy one adnam broadsid blind part jobspec kilo\n",
            "hi could tri delet cach cooki reinstal app use fix issu dani\n",
            "tesco lose shop ive done delet cachecooki use app\n",
            "hi long sign account prior delet cach amp cooki youll still full basket thank mike\n",
            "tesco done still tell deliveri slot whatsoev\n",
            "dm full name address email id happi look thank mike\n",
            "hey tesco websit broken tell deliveri slot next week find slightli unlik\n",
            "particular app seem cau issu other model iphon use join u dm\n",
            "applesupport latest version io start immedi updat phone\n",
            "wed like help start happen version io run current\n",
            "app stop work without warn phone freez everi five minut love new updat\n",
            "hi agoura thank tweet plea refer articl amp click link repli back rashmi\n",
            "hpsupport problem printhead serial thdhn hpcswu hpprnt\n",
            "up servic call choic allow packag deliv up store ml\n",
            "wish amazon option get ship up store avoid lot struggl\n",
            "reschedul shit tomorrow\n",
            "hey sara sorri hear issu ask lay speed websit respond ty chri\n",
            "tesco bit find layout cumbersom remov item fave get huge slowdown keen thin green line\n",
            "doesnt help plea dm full name address email includ browser devic log thank lee\n"
          ]
        }
      ]
    }
  ]
}